{
 "cells": [
  {
   "cell_type": "code",
   "execution_count": 67,
   "metadata": {
    "collapsed": false,
    "scrolled": true
   },
   "outputs": [],
   "source": [
    "def alpha(m):\n",
    "    u = var('u')\n",
    "    expr = log((2 + u)/(1 + u), 2)^m\n",
    "    s = numerical_integral(expr, 0, +Infinity)\n",
    "    return (m * s[0])^-1"
   ]
  },
  {
   "cell_type": "code",
   "execution_count": 74,
   "metadata": {
    "collapsed": false
   },
   "outputs": [
    {
     "name": "stdout",
     "output_type": "stream",
     "text": [
      "(0, 1, 0.0176262649461293)\n",
      "(1, 2, 0.3511939471167616)\n",
      "(2, 4, 0.5324346139959726)\n",
      "(3, 8, 0.6256087109372577)\n",
      "(4, 16, 0.6731020238676673)\n",
      "(5, 32, 0.6971226338010236)\n",
      "(6, 64, 0.7092084528700252)\n",
      "(7, 128, 0.7152711899613444)\n",
      "(8, 256, 0.7183076381917926)\n",
      "(9, 512, 0.7198271478203816)\n",
      "(10, 1024, 0.7205872259765094)\n"
     ]
    }
   ],
   "source": [
    "for p in range(11):\n",
    "    m = 2 ^ p\n",
    "    print(p, m, alpha(m))"
   ]
  }
 ],
 "metadata": {
  "kernelspec": {
   "display_name": "SageMath 7.4",
   "language": "",
   "name": "sagemath"
  },
  "language_info": {
   "codemirror_mode": {
    "name": "ipython",
    "version": 2
   },
   "file_extension": ".py",
   "mimetype": "text/x-python",
   "name": "python",
   "nbconvert_exporter": "python",
   "pygments_lexer": "ipython2",
   "version": "2.7.13"
  }
 },
 "nbformat": 4,
 "nbformat_minor": 2
}
